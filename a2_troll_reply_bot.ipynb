{
 "cells": [
  {
   "cell_type": "markdown",
   "id": "67655e14-ea22-4ff1-9b83-2735028b6dd8",
   "metadata": {},
   "source": [
    "# Programming Assignment 2: Trolling a Reply Bot\n",
    "\n",
    "In this assignment, your job will be to make modify the reply bot below and make your own version of a reply bot (look for the TODO section). Then after you've made it, see if you can troll it. At the end, you will have some reflection questions to answer.\n",
    "\n",
    "When you are done, you will need to download this file (file menu -> download) and turn it in on Canvas.\n",
    "\n",
    "Below is the code for the first reply bot from the book, where if you tweet at it: \n",
    "- \"Hi @mybotname, please ___\" (where the ___ is some action)\n",
    "- then the bot will reply, \"I will now ____\" (where the ___ is that same action).\n",
    "\n",
    "## Reply Bot\n",
    "\n",
    "First we need to do our tweepy setup:"
   ]
  },
  {
   "cell_type": "code",
   "execution_count": null,
   "id": "ed4d794b-94dc-48bc-bd59-557d2251a135",
   "metadata": {
    "tags": []
   },
   "outputs": [],
   "source": [
    "import tweepy"
   ]
  },
  {
   "cell_type": "markdown",
   "id": "fe7ff131-e8a4-4423-ab35-0c3818c6abd7",
   "metadata": {},
   "source": [
    "(optional) make a fake twitter connection with the fake_tweepy library\n",
    "\n",
    "For testing purposes, we’ve added this line of code, which loads a fake version of tweepy, so it wont actually connect to twitter. If you want to try to actually connect to twitter, don’t run this line of code."
   ]
  },
  {
   "cell_type": "code",
   "execution_count": null,
   "id": "1cc9e058-bd45-44e4-a93e-4daa302e45bc",
   "metadata": {},
   "outputs": [],
   "source": [
    "%run fake_tweepy/fake_tweepy.ipynb"
   ]
  },
  {
   "cell_type": "markdown",
   "id": "63d6e102-0891-4bb3-8156-d69cc04f4bec",
   "metadata": {},
   "source": [
    "To use this on your real twitter account, copy your [developer access passwords](https://kylethayer.github.io/social_media_ethics_automation_v0/prefaces/making_twitter_account.html) into the  bot_keys.py file."
   ]
  },
  {
   "cell_type": "code",
   "execution_count": null,
   "id": "92e97170-80c2-42b7-b661-2eb909b71f14",
   "metadata": {},
   "outputs": [],
   "source": [
    "import bot_keys"
   ]
  },
  {
   "cell_type": "code",
   "execution_count": null,
   "id": "a4670d0f-d404-49ae-ad88-5234a60254ff",
   "metadata": {},
   "outputs": [],
   "source": [
    "# Give the tweepy code your developer access passwords so\n",
    "# it can perform twitter actions\n",
    "client = tweepy.Client(\n",
    "   bearer_token=bot_keys.bearer_token,\n",
    "   consumer_key=bot_keys.consumer_key, consumer_secret=bot_keys.consumer_secret,\n",
    "   access_token=bot_keys.access_token, access_token_secret=bot_keys.access_token_secret\n",
    ")"
   ]
  },
  {
   "cell_type": "markdown",
   "id": "f409cd56-bc92-45d3-9b4c-bb21990c5e9f",
   "metadata": {},
   "source": [
    "### find my twitter bot name\n",
    "We are going to be looking for people tweeting at us (e.g., \"Hi @mybotname, ...\"), except we will need to get our actual twitter handle instead of \"@mybotname\". We'll need our twitter id number as well to find tweets that mention us.\n",
    "\n",
    "We do this by asking twitter for our user info, then getting the id and username from it:"
   ]
  },
  {
   "cell_type": "code",
   "execution_count": null,
   "id": "1ecda86c-9491-46d2-9353-26908a61b073",
   "metadata": {},
   "outputs": [],
   "source": [
    "# Ask twitter for my user info\n",
    "my_user_info = client.get_user(id=\"me\", user_auth=True)\n",
    "\n",
    "# Get my id number and username from the user info\n",
    "my_id = my_user_info.data.id\n",
    "my_username = my_user_info.data.username\n",
    "\n",
    "display(\"my user id number is: \" + str(my_id))\n",
    "display(\"my username is: \" + my_username)"
   ]
  },
  {
   "cell_type": "markdown",
   "id": "a4d463f2-c04f-4ae4-975e-662ec38cfe3a",
   "metadata": {
    "tags": []
   },
   "source": [
    "### find my latest mention\n",
    "Next we need to find the latest tweet that mentioned us. \n",
    "\n",
    "We do this by asking twitter for tweets that mention our user id, then pulling the first thing out of the list (index 0).\n",
    "\n",
    "Then we get the tweet id and the text of the tweet.\n",
    "\n",
    "_Note: This code will crash, showing error messages if there are no recent tweets mentioning us_"
   ]
  },
  {
   "cell_type": "code",
   "execution_count": null,
   "id": "3c3ff0f8-d311-4362-bd4e-7dd4e307c624",
   "metadata": {},
   "outputs": [],
   "source": [
    "# Ask twitter for tweets that mention my id\n",
    "my_mentions = client.get_users_mentions(id=my_id)\n",
    "\n",
    "# Get the first tweet from the list (latest tweet)\n",
    "latest_mention = my_mentions.data[0]\n",
    "\n",
    "latest_mention_id = latest_mention.id\n",
    "latest_mention_text = latest_mention.text\n",
    "\n",
    "display(\"the latest mention of us is tweet id: \" + str(latest_mention_id))\n",
    "display(\"the text of latest mention of us is: \" + latest_mention_text)"
   ]
  },
  {
   "cell_type": "markdown",
   "id": "0198af1c-b595-486a-aedc-755ab20b680a",
   "metadata": {
    "tags": []
   },
   "source": [
    "## TODO: Modify this section (If tweet matches our pattern, reply)\n"
   ]
  },
  {
   "cell_type": "markdown",
   "id": "98c79380-fdd8-476f-98e4-53142f950443",
   "metadata": {},
   "source": [
    "\n",
    "\n",
    "We will now see if our tweet matches our pattern of \"Hi @mybotname, please ___\" and then we will reply.\n",
    "\n",
    "First we will create a string with the correct pattern, but with our actual bot name"
   ]
  },
  {
   "cell_type": "code",
   "execution_count": null,
   "id": "3be9514a-0fb2-4edd-b759-da362f078913",
   "metadata": {},
   "outputs": [],
   "source": [
    "expected_pattern = \"Hi @\" + my_username + \", please \""
   ]
  },
  {
   "cell_type": "markdown",
   "id": "b1f0bdfd-37af-4556-b983-c8bdb1c1cdcd",
   "metadata": {},
   "source": [
    "Now, if the mention text starts with that expected pattern, then we will find the action from the end of the mention text (based on the expected_pattern length), and reply using that action:"
   ]
  },
  {
   "cell_type": "code",
   "execution_count": null,
   "id": "7be517a7-c73e-4d7e-b0a5-5ebd6a5c4d71",
   "metadata": {},
   "outputs": [],
   "source": [
    "# check if the mention text starts with our set phrase\n",
    "if latest_mention_text.startswith(expected_pattern):\n",
    "    # get the action, which should be the end of the string after the expected pattern\n",
    "    action = latest_mention_text[len(expected_pattern) :]\n",
    "    \n",
    "    # make a new tweet message which says we will do the action\n",
    "    message = \"I will now \" + action\n",
    "    \n",
    "    # tweet our message in reply to the mention tweet\n",
    "    client.create_tweet(\n",
    "        text=message, \n",
    "        in_reply_to_tweet_id=latest_mention_id\n",
    "    )"
   ]
  },
  {
   "cell_type": "markdown",
   "id": "7651e8cb-cf17-412a-b04e-7cb2fd4bb522",
   "metadata": {},
   "source": [
    "## Reflection questions\n",
    "1. How could you troll this bot? Give an example of a tweet that would let you troll it. Or, if you don't think it can be trolled, explain why."
   ]
  },
  {
   "cell_type": "markdown",
   "id": "3965c5f9-ed07-4fc9-b89d-e325d63440b9",
   "metadata": {},
   "source": [
    "TODO: Write your answer here"
   ]
  },
  {
   "cell_type": "markdown",
   "id": "609d8713-5bfc-4000-aeb8-72d3e114d905",
   "metadata": {},
   "source": [
    "2. What limitations does trying to prevent trolling put on your ability to create a bot? (write at least 3 sentences)"
   ]
  },
  {
   "cell_type": "markdown",
   "id": "bb901bf3-2f8d-433a-8409-ebcbd12bd3ff",
   "metadata": {},
   "source": [
    "TODO: Write at least 3 sentences here"
   ]
  },
  {
   "cell_type": "markdown",
   "id": "26016eba-6854-45d0-833e-dd4bca6bc8f9",
   "metadata": {},
   "source": [
    "3. Pick two ethics frameworks and compare how they might evaluate the responsibility of someone who is creating a reply bot? (write at least 6 sentences)"
   ]
  },
  {
   "cell_type": "markdown",
   "id": "0bfe7ec7-bcdb-4952-9223-015565fd10c8",
   "metadata": {},
   "source": [
    "TODO: Write at least 3 sentences here"
   ]
  },
  {
   "cell_type": "markdown",
   "id": "067786b9-af3d-4c61-a2b9-bee535130e9d",
   "metadata": {},
   "source": [
    "4. Pick two ethics frameworks and compare how they might evaluate the responsibility of someone who is considering trolling a reply bot? (write at least 6 sentences)"
   ]
  },
  {
   "cell_type": "markdown",
   "id": "0c2417bf-c9a4-4dea-a487-507fa420fe7d",
   "metadata": {},
   "source": [
    "TODO: Write at least 3 sentences here"
   ]
  },
  {
   "cell_type": "code",
   "execution_count": null,
   "id": "b606e13e-7d2a-447c-8d3f-a11c1c9d42ff",
   "metadata": {},
   "outputs": [],
   "source": []
  }
 ],
 "metadata": {
  "kernelspec": {
   "display_name": "Python 3 (ipykernel)",
   "language": "python",
   "name": "python3"
  },
  "language_info": {
   "codemirror_mode": {
    "name": "ipython",
    "version": 3
   },
   "file_extension": ".py",
   "mimetype": "text/x-python",
   "name": "python",
   "nbconvert_exporter": "python",
   "pygments_lexer": "ipython3",
   "version": "3.9.7"
  }
 },
 "nbformat": 4,
 "nbformat_minor": 5
}
