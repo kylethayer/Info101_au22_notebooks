{
 "cells": [
  {
   "cell_type": "markdown",
   "id": "7ed422e2-c3df-47de-bd9d-01c3dee7feb4",
   "metadata": {},
   "source": [
    "# Demo of Statements, Variables, and Sleep\n",
    "(see the book 3.3.2 for the full demo)"
   ]
  },
  {
   "cell_type": "markdown",
   "id": "839d6cf1-301e-4b85-85e7-57c9296d803c",
   "metadata": {},
   "source": [
    "## Statements\n",
    "(generally speaking) each line of python code is a new statement, that is a step to be run in order."
   ]
  },
  {
   "cell_type": "code",
   "execution_count": null,
   "id": "593a5f73-d4df-44d6-ae6e-08719acd7577",
   "metadata": {},
   "outputs": [],
   "source": [
    "display(\"this is some example text\")"
   ]
  },
  {
   "cell_type": "code",
   "execution_count": null,
   "id": "f48b9af9-803b-4e3e-aaab-c627ef1f6acd",
   "metadata": {},
   "outputs": [],
   "source": [
    "display('this is the song that never ends')\n",
    "display(\"yes it goes on and on my friends\")\n",
    "display(\"some people started singing it not knowing what it was\")\n",
    "display(\"and they'll continue singing it forever just because\")\n",
    "display(\"this is the song that never ends\")"
   ]
  },
  {
   "cell_type": "markdown",
   "id": "5eca7636-fb0d-44c3-afee-7534438f3fdc",
   "metadata": {},
   "source": [
    "## Variables\n",
    "A variable is a place where you can save information. You choose a name for the variable, then put an \"=\", and then put what you want to save in the variable."
   ]
  },
  {
   "cell_type": "code",
   "execution_count": null,
   "id": "d1d4cd55-408d-4ccc-a364-f10050e5bfda",
   "metadata": {},
   "outputs": [],
   "source": [
    "tweet_1 = \"hello there!\""
   ]
  },
  {
   "cell_type": "code",
   "execution_count": null,
   "id": "9e7a0257-01fb-48c3-9942-5da0c0c62f55",
   "metadata": {},
   "outputs": [],
   "source": [
    "display(tweet_1)"
   ]
  },
  {
   "cell_type": "code",
   "execution_count": null,
   "id": "25ddbcce-7088-462e-bec4-d826e2ded2ac",
   "metadata": {},
   "outputs": [],
   "source": [
    "tweet_2 = \"how are you?\""
   ]
  },
  {
   "cell_type": "code",
   "execution_count": null,
   "id": "d41b16e9-2dca-49b7-8be8-6a88a604d84c",
   "metadata": {},
   "outputs": [],
   "source": [
    "tweet_3 = \"what is your name?\""
   ]
  },
  {
   "cell_type": "code",
   "execution_count": null,
   "id": "ac2b973b-4ab2-40f0-98de-70ca8ea59f79",
   "metadata": {},
   "outputs": [],
   "source": [
    "author_1 = \"Kyle\"\n",
    "author_2 = \"Susan\"\n",
    "book_title = \"Social Media, Ethics, and Automation\""
   ]
  },
  {
   "cell_type": "code",
   "execution_count": null,
   "id": "774abe06-5bda-4a2a-a726-7889c0b75301",
   "metadata": {},
   "outputs": [],
   "source": [
    "book_info = book_title + \" by \" + author_1 + \" and \" + author_2"
   ]
  },
  {
   "cell_type": "code",
   "execution_count": null,
   "id": "d5a6bcd2-5e77-4fbb-ac56-8e18396a6a5b",
   "metadata": {},
   "outputs": [],
   "source": [
    "display(book_info)"
   ]
  },
  {
   "cell_type": "markdown",
   "id": "238e59f1-aa12-4101-a52e-02f0501d0b1a",
   "metadata": {},
   "source": [
    "## Sleep\n",
    "Sleep pauses for a set number of seconds before letting the code continue to run"
   ]
  },
  {
   "cell_type": "code",
   "execution_count": null,
   "id": "a5799c36-16f9-4aa7-aa66-cd0ee54b6e85",
   "metadata": {},
   "outputs": [],
   "source": [
    "# We need to load the sleep function \n",
    "# from the time library before we can use it\n",
    "\n",
    "from time import sleep"
   ]
  },
  {
   "cell_type": "code",
   "execution_count": null,
   "id": "2879f3d4-1b53-4a75-8e8d-a8f26125a8f3",
   "metadata": {},
   "outputs": [],
   "source": [
    "display(\"I am typing some messages on twitter\")\n",
    "sleep(5)\n",
    "display(\"Ok, I am continuing my story\")\n",
    "sleep(10)\n",
    "display(\"That one took a while to type\")\n",
    "sleep(15)\n",
    "display(\"That's the end of my story\")"
   ]
  },
  {
   "cell_type": "code",
   "execution_count": null,
   "id": "0310a0df-1457-4752-927f-5e5ac1f7c7e6",
   "metadata": {},
   "outputs": [],
   "source": []
  }
 ],
 "metadata": {
  "kernelspec": {
   "display_name": "Python 3 (ipykernel)",
   "language": "python",
   "name": "python3"
  },
  "language_info": {
   "codemirror_mode": {
    "name": "ipython",
    "version": 3
   },
   "file_extension": ".py",
   "mimetype": "text/x-python",
   "name": "python",
   "nbconvert_exporter": "python",
   "pygments_lexer": "ipython3",
   "version": "3.9.7"
  }
 },
 "nbformat": 4,
 "nbformat_minor": 5
}
