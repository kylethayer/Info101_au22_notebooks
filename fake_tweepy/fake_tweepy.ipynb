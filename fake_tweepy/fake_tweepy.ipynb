{
 "cells": [
  {
   "cell_type": "markdown",
   "id": "f0119a40-b1ad-4814-bfc4-3614e853d800",
   "metadata": {},
   "source": [
    "# Fake Tweepy Library\n",
    "This library is intended to mimic Tweepy so that the book demoes can be run without actually needing twitter credentials, and not actually posting to twitter"
   ]
  },
  {
   "cell_type": "code",
   "execution_count": 3,
   "id": "991fa352-096f-4ff2-bfce-9c5b877c578b",
   "metadata": {},
   "outputs": [],
   "source": [
    "from types import SimpleNamespace\n",
    "\n",
    "from IPython.display import HTML, Image, display\n",
    "import html\n",
    "\n",
    "import datetime\n",
    "\n"
   ]
  },
  {
   "cell_type": "code",
   "execution_count": 10,
   "id": "226340d8-a1f7-4689-a6c2-f4f55885585c",
   "metadata": {},
   "outputs": [],
   "source": [
    "def print_info(text):\n",
    "    display(\n",
    "        HTML(\n",
    "            \"<strong style='color:darkred'>\" + \n",
    "            html.escape(text) + \n",
    "            \"</strong>\"\n",
    "        )\n",
    "    )"
   ]
  },
  {
   "cell_type": "code",
   "execution_count": 26,
   "id": "d55561c8-26ff-4ef9-9397-f24b99385187",
   "metadata": {},
   "outputs": [
    {
     "data": {
      "text/html": [
       "<strong style='color:darkred'>Fake tweepy is replacing the tweepy library. Fake Tweepy doesn&#x27;t need real passwords, and prevents you from accessing real twitter</strong>"
      ],
      "text/plain": [
       "<IPython.core.display.HTML object>"
      ]
     },
     "metadata": {},
     "output_type": "display_data"
    }
   ],
   "source": [
    "print_info(\"Fake tweepy is replacing the tweepy library. Fake Tweepy doesn't need real passwords, and prevents you from accessing real twitter\")\n",
    "\n",
    "def print_tweet(text=\"\"):\n",
    "    print_info(\"Fake Tweepy is pretending to post this tweet (note: real tweepy shows no output here when a tweet is posted): \")\n",
    "    print(text)\n",
    "    \n",
    "def search_recent_tweets(query=\"\", tweet_fields=[]):\n",
    "    print_info(\"Fake Tweepy is pretending to search and is returning some fake tweets.\")\n",
    "    return SimpleNamespace(\n",
    "      data = [\n",
    "          SimpleNamespace(\n",
    "              text = \"While trying to tweet right now, I am being attacked by my cute cat! It's so hard to tpye wihsaoae as fesadf asd fssasaf sa\",\n",
    "              id = 129308937494,\n",
    "              author_id = 239048094385,\n",
    "              created_at = datetime.datetime(2022, 2, 22, 22, 22, 22, 0, datetime.timezone.utc),\n",
    "              lang = 'en',\n",
    "              source = 'Twitter for Android',\n",
    "              public_metrics = {\n",
    "                  'retweet_count': 7,\n",
    "                  'reply_count': 3,\n",
    "                  'like_count': 6,\n",
    "                  'quote_count': 2                  \n",
    "              }\n",
    "          )\n",
    "          \n",
    "      ]\n",
    "    )\n",
    "\n",
    "\n",
    "def client_creator(bearer_token=\"\", consumer_key=\"\", consumer_secret=\"\", access_token=\"\", access_token_secret=\"\" ):\n",
    "    print_info(\"Fake Tweepy is pretending to log in to twitter\")\n",
    "    return SimpleNamespace(\n",
    "      create_tweet = print_tweet,\n",
    "      search_recent_tweets = search_recent_tweets\n",
    "    )\n",
    "\n",
    "\n",
    "tweepy = SimpleNamespace(\n",
    "    Client = client_creator\n",
    ")\n"
   ]
  },
  {
   "cell_type": "code",
   "execution_count": null,
   "id": "581cfc2a-263b-4708-8d85-c70534f60b93",
   "metadata": {},
   "outputs": [],
   "source": []
  }
 ],
 "metadata": {
  "kernelspec": {
   "display_name": "Python 3 (ipykernel)",
   "language": "python",
   "name": "python3"
  },
  "language_info": {
   "codemirror_mode": {
    "name": "ipython",
    "version": 3
   },
   "file_extension": ".py",
   "mimetype": "text/x-python",
   "name": "python",
   "nbconvert_exporter": "python",
   "pygments_lexer": "ipython3",
   "version": "3.10.4"
  }
 },
 "nbformat": 4,
 "nbformat_minor": 5
}
