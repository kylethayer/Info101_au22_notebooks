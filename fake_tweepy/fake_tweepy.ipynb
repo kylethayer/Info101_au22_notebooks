{
 "cells": [
  {
   "cell_type": "markdown",
   "id": "f0119a40-b1ad-4814-bfc4-3614e853d800",
   "metadata": {},
   "source": [
    "# Fake Tweepy Library\n",
    "This library is intended to mimic Tweepy so that the book demoes can be run without actually needing twitter credentials, and not actually posting to twitter"
   ]
  },
  {
   "cell_type": "code",
   "execution_count": 3,
   "id": "991fa352-096f-4ff2-bfce-9c5b877c578b",
   "metadata": {},
   "outputs": [],
   "source": [
    "from types import SimpleNamespace\n",
    "\n",
    "from IPython.display import HTML, Image, display\n",
    "import html\n",
    "\n",
    "import datetime\n",
    "\n"
   ]
  },
  {
   "cell_type": "code",
   "execution_count": 10,
   "id": "226340d8-a1f7-4689-a6c2-f4f55885585c",
   "metadata": {},
   "outputs": [],
   "source": [
    "def print_info(text):\n",
    "    display(\n",
    "        HTML(\n",
    "            \"<strong style='color:darkred'>\" + \n",
    "            html.escape(text) + \n",
    "            \"</strong>\"\n",
    "        )\n",
    "    )"
   ]
  },
  {
   "cell_type": "code",
   "execution_count": null,
   "id": "4502fca7-62ab-4ac0-9215-ec4808017a97",
   "metadata": {},
   "outputs": [],
   "source": [
    "print_info(\"Fake tweepy is replacing the tweepy library. Fake Tweepy doesn't need real passwords, and prevents you from accessing real twitter\")"
   ]
  },
  {
   "cell_type": "code",
   "execution_count": null,
   "id": "f64a39ab-b902-4c7d-897f-9fe01f0b66f9",
   "metadata": {},
   "outputs": [],
   "source": [
    "def print_tweet(text=\"\", in_reply_to_tweet_id=0):\n",
    "    print_info(\"Fake Tweepy is pretending to post this tweet (note: real tweepy shows no output here when a tweet is posted): \")\n",
    "    print(text)\n",
    "    if(in_reply_to_tweet_id > 0):\n",
    "        print(\"Tweet in reply to: \" + str(in_reply_to_tweet_id))"
   ]
  },
  {
   "cell_type": "code",
   "execution_count": null,
   "id": "3709ba39-3510-4b7d-aec3-70ccb95c5176",
   "metadata": {},
   "outputs": [],
   "source": [
    "def search_recent_tweets(query=\"\", tweet_fields=[], max_results=10):\n",
    "    print_info(\"Fake Tweepy is pretending to search for '\"+query+\"' and is returning some fake tweets.\")\n",
    "    if(query == '\"cute cat\"'):\n",
    "        return SimpleNamespace(\n",
    "          data = [\n",
    "              SimpleNamespace(\n",
    "                  text = \"While trying to tweet right now, I am being attacked by my cute cat! It's so hard to tpye wihsaoae as fesadf asd fssasaf sa\",\n",
    "                  id = 129308937494,\n",
    "                  author_id = 239048094385,\n",
    "                  created_at = datetime.datetime(2022, 2, 22, 22, 22, 22, 0, datetime.timezone.utc),\n",
    "                  lang = 'en',\n",
    "                  source = 'Twitter for Android',\n",
    "                  public_metrics = {\n",
    "                      'retweet_count': 7,\n",
    "                      'reply_count': 3,\n",
    "                      'like_count': 6,\n",
    "                      'quote_count': 2                  \n",
    "                  }\n",
    "              ),\n",
    "              SimpleNamespace(\n",
    "                  text = \"I wish I could be sleeping now like my cute cat is!\",\n",
    "                  id = 93298432,\n",
    "                  author_id = 23409023,\n",
    "                  created_at = datetime.datetime(2022, 2, 22, 2, 2, 2, 0, datetime.timezone.utc),\n",
    "                  lang = 'en',\n",
    "                  source = 'Twitter for iPhone',\n",
    "                  public_metrics = {\n",
    "                      'retweet_count': 2,\n",
    "                      'reply_count': 1,\n",
    "                      'like_count': 5,\n",
    "                      'quote_count': 3                  \n",
    "                  }\n",
    "              ),\n",
    "              SimpleNamespace(\n",
    "                  text = \"Why won't my cute cat stop scratching my face in the morning!\",\n",
    "                  id = 321923,\n",
    "                  author_id = 32892394,\n",
    "                  created_at = datetime.datetime(2022, 2, 22, 3, 3, 3, 0, datetime.timezone.utc),\n",
    "                  lang = 'en',\n",
    "                  source = 'Twitter for iPhone',\n",
    "                  public_metrics = {\n",
    "                      'retweet_count': 3,\n",
    "                      'reply_count': 4,\n",
    "                      'like_count': 2,\n",
    "                      'quote_count': 3                  \n",
    "                  }\n",
    "              )\n",
    "          ]\n",
    "        )\n",
    "    if(query == \"from:fake_celebrity\"):\n",
    "        return SimpleNamespace(\n",
    "          data = [\n",
    "              SimpleNamespace(\n",
    "                  text = \"Why is the line at the grocery store taking so long???\",\n",
    "                  id = 129308937494,\n",
    "                  source = 'Twitter for iPhone'\n",
    "              ),\n",
    "              SimpleNamespace(\n",
    "                  text = \"Remember, my show tonight starts at 7:00pm!\",\n",
    "                  id = 93298432,\n",
    "                  source = 'Fake Social Media Manager',\n",
    "              ),\n",
    "              SimpleNamespace(\n",
    "                  text = \"Hope all my followers are having a lovely day!\",\n",
    "                  id = 321923,\n",
    "                  source = 'Fake Social Media Manager',\n",
    "              )\n",
    "          ]\n",
    "        )"
   ]
  },
  {
   "cell_type": "code",
   "execution_count": null,
   "id": "b2861f14-9249-4d94-bfe1-6ddc4508bca5",
   "metadata": {},
   "outputs": [],
   "source": [
    "def get_user(id=\"\", user_auth=False):\n",
    "    if(id == \"me\"):\n",
    "        return SimpleNamespace(\n",
    "            data = SimpleNamespace(\n",
    "                id = 123456789,\n",
    "                username = \"fake_user\"\n",
    "            )\n",
    "        )"
   ]
  },
  {
   "cell_type": "code",
   "execution_count": 2,
   "id": "d323ace5-f76f-4e1a-a103-a851fea87463",
   "metadata": {},
   "outputs": [
    {
     "ename": "SyntaxError",
     "evalue": "invalid syntax (526917486.py, line 1)",
     "output_type": "error",
     "traceback": [
      "\u001b[1;36m  Input \u001b[1;32mIn [2]\u001b[1;36m\u001b[0m\n\u001b[1;33m    global mentions_counter = 0\u001b[0m\n\u001b[1;37m                            ^\u001b[0m\n\u001b[1;31mSyntaxError\u001b[0m\u001b[1;31m:\u001b[0m invalid syntax\n"
     ]
    }
   ],
   "source": [
    "mentions_counter = 0\n",
    "\n",
    "def get_users_mentions(id=0):\n",
    "    global mentions_counter\n",
    "    if(id == 123456789):\n",
    "        mentions_counter += 1\n",
    "        if(mentions_counter == 1):\n",
    "            return SimpleNamespace(\n",
    "              data = [\n",
    "                  SimpleNamespace(\n",
    "                      text = \"Hi @fake_user, please jump\",\n",
    "                      id = 232434,\n",
    "                  )\n",
    "              ]\n",
    "            )\n",
    "        elif(mentions_counter == 2):\n",
    "            return SimpleNamespace(\n",
    "              data = [\n",
    "                  SimpleNamespace(\n",
    "                      text = \"Hi @fake_user, please do something horrible!\",\n",
    "                      id = 234356,\n",
    "                  )\n",
    "              ]\n",
    "            )\n",
    "        elif(mentions_counter == 3):\n",
    "            return SimpleNamespace(\n",
    "              data = [\n",
    "                  SimpleNamespace(\n",
    "                      text = \"Hi @fake_user, please fly\",\n",
    "                      id = 245454,\n",
    "                  )\n",
    "              ]\n",
    "            )\n",
    "        elif(mentions_counter == 4):\n",
    "            return SimpleNamespace(\n",
    "              data = [\n",
    "                  SimpleNamespace(\n",
    "                      text = \"Hi @fake_user, please do something horrible!\",\n",
    "                      id = 245454,\n",
    "                  )\n",
    "              ]\n",
    "            )\n",
    "        elif(mentions_counter == 5):\n",
    "            return SimpleNamespace(\n",
    "              data = [\n",
    "                  SimpleNamespace(\n",
    "                      text = \"Hi @fake_user, please stop talking. But that doesn't mean I won't say horrible things like: I hate everybody!\",\n",
    "                      id = 245454,\n",
    "                  )\n",
    "              ]\n",
    "            )"
   ]
  },
  {
   "cell_type": "code",
   "execution_count": null,
   "id": "6fb61039-1a20-4ebb-a23e-6b6490803a78",
   "metadata": {},
   "outputs": [],
   "source": [
    "def client_creator(bearer_token=\"\", consumer_key=\"\", consumer_secret=\"\", access_token=\"\", access_token_secret=\"\" ):\n",
    "    print_info(\"Fake Tweepy is pretending to log in to twitter\")\n",
    "    return SimpleNamespace(\n",
    "      create_tweet = print_tweet,\n",
    "      search_recent_tweets = search_recent_tweets,\n",
    "      get_user = get_user,\n",
    "      get_users_mentions = get_users_mentions\n",
    "    )"
   ]
  },
  {
   "cell_type": "code",
   "execution_count": 1,
   "id": "d55561c8-26ff-4ef9-9397-f24b99385187",
   "metadata": {},
   "outputs": [
    {
     "ename": "NameError",
     "evalue": "name 'print_info' is not defined",
     "output_type": "error",
     "traceback": [
      "\u001b[1;31m---------------------------------------------------------------------------\u001b[0m",
      "\u001b[1;31mNameError\u001b[0m                                 Traceback (most recent call last)",
      "Input \u001b[1;32mIn [1]\u001b[0m, in \u001b[0;36m<cell line: 1>\u001b[1;34m()\u001b[0m\n\u001b[1;32m----> 1\u001b[0m \u001b[43mprint_info\u001b[49m(\u001b[38;5;124m\"\u001b[39m\u001b[38;5;124mFake tweepy is replacing the tweepy library. Fake Tweepy doesn\u001b[39m\u001b[38;5;124m'\u001b[39m\u001b[38;5;124mt need real passwords, and prevents you from accessing real twitter\u001b[39m\u001b[38;5;124m\"\u001b[39m)\n\u001b[0;32m      3\u001b[0m \u001b[38;5;28;01mdef\u001b[39;00m \u001b[38;5;21mprint_tweet\u001b[39m(text\u001b[38;5;241m=\u001b[39m\u001b[38;5;124m\"\u001b[39m\u001b[38;5;124m\"\u001b[39m):\n\u001b[0;32m      4\u001b[0m     print_info(\u001b[38;5;124m\"\u001b[39m\u001b[38;5;124mFake Tweepy is pretending to post this tweet (note: real tweepy shows no output here when a tweet is posted): \u001b[39m\u001b[38;5;124m\"\u001b[39m)\n",
      "\u001b[1;31mNameError\u001b[0m: name 'print_info' is not defined"
     ]
    }
   ],
   "source": [
    "tweepy = SimpleNamespace(\n",
    "    Client = client_creator\n",
    ")\n"
   ]
  },
  {
   "cell_type": "code",
   "execution_count": null,
   "id": "581cfc2a-263b-4708-8d85-c70534f60b93",
   "metadata": {},
   "outputs": [],
   "source": []
  }
 ],
 "metadata": {
  "kernelspec": {
   "display_name": "Python 3 (ipykernel)",
   "language": "python",
   "name": "python3"
  },
  "language_info": {
   "codemirror_mode": {
    "name": "ipython",
    "version": 3
   },
   "file_extension": ".py",
   "mimetype": "text/x-python",
   "name": "python",
   "nbconvert_exporter": "python",
   "pygments_lexer": "ipython3",
   "version": "3.10.4"
  }
 },
 "nbformat": 4,
 "nbformat_minor": 5
}
