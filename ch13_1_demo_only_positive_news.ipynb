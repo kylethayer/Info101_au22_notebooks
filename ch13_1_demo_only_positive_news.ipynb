{
 "cells": [
  {
   "cell_type": "markdown",
   "id": "f2446309-25e4-4582-a537-b8292885dcad",
   "metadata": {},
   "source": [
    "# Demo: Only positive news\n",
    "\n",
    "Let's look at something we could try to do to improve the mental health for our users: Only show positive news!\n",
    "\n",
    "We'll use sentiment analysis again, but this time we'll do a search for news from a news account, but only display the tweets with a positive sentiment.\n",
    "\n",
    "Would this actually improve someone's mental health? It's hard to say! But we can see something that we might try out if we wanted to improve mental health of our users."
   ]
  },
  {
   "cell_type": "markdown",
   "id": "ae27cd44-3897-4154-b7a1-a5a807bf92c7",
   "metadata": {},
   "source": [
    "## Normal Tweepy Set-Up"
   ]
  },
  {
   "cell_type": "code",
   "execution_count": null,
   "id": "0d45a981-86cd-41f0-bc0a-066afdc985b4",
   "metadata": {
    "tags": []
   },
   "outputs": [],
   "source": [
    "# make sure tweepy library is installed\n",
    "import tweepy"
   ]
  },
  {
   "cell_type": "markdown",
   "id": "c699f603-a604-43b9-af9e-27e3ca60f542",
   "metadata": {},
   "source": [
    "(optional) use the fake version of tweepy, so you don’t have to use real twitter developer access passwords"
   ]
  },
  {
   "cell_type": "code",
   "execution_count": null,
   "id": "24a8ae3d-bc92-4628-b348-75d1ffcf1bfe",
   "metadata": {},
   "outputs": [],
   "source": [
    "%run fake_tweepy/fake_tweepy.ipynb"
   ]
  },
  {
   "cell_type": "code",
   "execution_count": null,
   "id": "72567e4d-e517-43f1-a949-49fb29120ddf",
   "metadata": {},
   "outputs": [],
   "source": [
    "import bot_keys"
   ]
  },
  {
   "cell_type": "code",
   "execution_count": null,
   "id": "94c2d5da-d971-454a-aebf-3ed64e286b01",
   "metadata": {},
   "outputs": [],
   "source": [
    "# Give the tweepy code your developer access passwords so\n",
    "# it can perform twitter actions\n",
    "client = tweepy.Client(\n",
    "   bearer_token=bot_keys.bearer_token,\n",
    "   consumer_key=bot_keys.consumer_key, consumer_secret=bot_keys.consumer_secret,\n",
    "   access_token=bot_keys.access_token, access_token_secret=bot_keys.access_token_secret\n",
    ")"
   ]
  },
  {
   "cell_type": "markdown",
   "id": "c46fd9fd-d9d4-4966-9b3b-9c4cfd5ac6b3",
   "metadata": {},
   "source": [
    "## Load sentiment analyis code"
   ]
  },
  {
   "cell_type": "code",
   "execution_count": null,
   "id": "97cdf7e8-73a9-4b9f-867c-2914e1b6f85f",
   "metadata": {},
   "outputs": [],
   "source": [
    "import nltk\n",
    "nltk.download([\"vader_lexicon\"])\n",
    "from nltk.sentiment import SentimentIntensityAnalyzer\n",
    "sia = SentimentIntensityAnalyzer()"
   ]
  },
  {
   "cell_type": "markdown",
   "id": "544f922d-0b24-4923-b635-c5de0fb39da1",
   "metadata": {},
   "source": [
    "## Code to search and display news tweets\n",
    "Now let's make code that will do a search for news tweets (tweets from a fake_news_site), and display all of them. We will then make a modified version below to compare the results."
   ]
  },
  {
   "cell_type": "code",
   "execution_count": null,
   "id": "7232d9db-74c3-44c6-a835-6d541fca3e0e",
   "metadata": {},
   "outputs": [],
   "source": [
    "query = 'from:fake_news_site'\n",
    "tweets = client.search_recent_tweets(query=query, max_results=10)\n",
    "\n",
    "# go through each tweet\n",
    "for tweet in tweets.data:\n",
    "    print(tweet.text)\n",
    "    print()\n"
   ]
  },
  {
   "cell_type": "markdown",
   "id": "21e1b71b-b881-4227-82f4-76df85e47df0",
   "metadata": {},
   "source": [
    "## Search through tweets and only display good news\n",
    "Now we will make a different version of the code that computes the sentiment of each tweet and only displays the ones with positive sentiment."
   ]
  },
  {
   "cell_type": "code",
   "execution_count": null,
   "id": "a8297615-bb0f-4728-8ff1-c891336335a9",
   "metadata": {},
   "outputs": [],
   "source": [
    "query = 'from:fake_news_site'\n",
    "tweets = client.search_recent_tweets(query=query, max_results=20)\n",
    "\n",
    "# go through each tweet\n",
    "for tweet in tweets.data:\n",
    "    \n",
    "    #calculate sentiment\n",
    "    tweet_sentiment = sia.polarity_scores(tweet.text)[\"compound\"]\n",
    "\n",
    "    if(tweet_sentiment > 0):\n",
    "        print(tweet.text)\n",
    "        print()"
   ]
  },
  {
   "cell_type": "markdown",
   "id": "1e7fe660-e47f-4c2d-acf0-c14021c2807f",
   "metadata": {},
   "source": [
    "## Try it out on real twitter\n",
    "If you want, you can skip the fake_tweepy step and try it out on real twitter with a query like \"from:npr\", \"from:msnbc\", \"from:cnn\", etc.\n",
    "\n",
    "Did it work like you expected?\n",
    "\n",
    "You can also only show negative sentiment tweets (sentiment < 0) if you want to see only bad news."
   ]
  }
 ],
 "metadata": {
  "kernelspec": {
   "display_name": "Python 3 (ipykernel)",
   "language": "python",
   "name": "python3"
  },
  "language_info": {
   "codemirror_mode": {
    "name": "ipython",
    "version": 3
   },
   "file_extension": ".py",
   "mimetype": "text/x-python",
   "name": "python",
   "nbconvert_exporter": "python",
   "pygments_lexer": "ipython3",
   "version": "3.9.7"
  }
 },
 "nbformat": 4,
 "nbformat_minor": 5
}
