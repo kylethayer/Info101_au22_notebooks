{
 "cells": [
  {
   "cell_type": "markdown",
   "id": "67655e14-ea22-4ff1-9b83-2735028b6dd8",
   "metadata": {},
   "source": [
    "# Demo & Practice: Tweet Sources\n",
    "\n",
    "Let's now try out some code to see what device people are using to post their Tweets. We can't look at Donald Trump's Tweets, since his account was [suspended in January 2021 for inciting violence](https://blog.twitter.com/en_us/topics/company/2020/suspension), but we can look at other accounts and think about authenticity might mean for different types of accounts."
   ]
  },
  {
   "cell_type": "markdown",
   "id": "e2b8ec11-bcc5-4858-b65b-7421e32883a8",
   "metadata": {},
   "source": [
    "## Log into Twitter\n",
    "These are our normal steps get Tweepy loaded and logged into Twitter"
   ]
  },
  {
   "cell_type": "code",
   "execution_count": null,
   "id": "ed4d794b-94dc-48bc-bd59-557d2251a135",
   "metadata": {
    "tags": []
   },
   "outputs": [],
   "source": [
    "import tweepy"
   ]
  },
  {
   "cell_type": "markdown",
   "id": "ce054ad2-ca27-4a41-8720-8bd28b6714a1",
   "metadata": {},
   "source": [
    "(optional) make a fake twitter connection with the fake_tweepy library\n",
    "\n",
    "For testing purposes, we’ve added this line of code, which loads a fake version of tweepy, so it wont actually connect to twitter. If you want to try to actually connect to twitter, don’t run this line of code."
   ]
  },
  {
   "cell_type": "code",
   "execution_count": null,
   "id": "d055ee8d-4ec6-4ab2-8ee8-3c6784842fd5",
   "metadata": {},
   "outputs": [],
   "source": [
    "%run fake_tweepy/fake_tweepy.ipynb"
   ]
  },
  {
   "cell_type": "code",
   "execution_count": null,
   "id": "a4670d0f-d404-49ae-ad88-5234a60254ff",
   "metadata": {},
   "outputs": [],
   "source": [
    "import bot_keys"
   ]
  },
  {
   "cell_type": "code",
   "execution_count": null,
   "id": "81c60ab0-c6b8-46c0-9e7c-3c022eaa8350",
   "metadata": {},
   "outputs": [],
   "source": [
    "# Give the tweepy code your developer access passwords so\n",
    "# it can perform twitter actions\n",
    "client = tweepy.Client(\n",
    "   bearer_token=bot_keys.bearer_token,\n",
    "   consumer_key=bot_keys.consumer_key, consumer_secret=bot_keys.consumer_secret,\n",
    "   access_token=bot_keys.access_token, access_token_secret=bot_keys.access_token_secret\n",
    ")"
   ]
  },
  {
   "cell_type": "markdown",
   "id": "e5caed17-960d-4a53-9410-1fd5ef3932ae",
   "metadata": {},
   "source": [
    "## Load tweets with the source (what device they were posted on)\n",
    "\n",
    "The code below searches for recent tweets from an account, and then does a loop though all the tweets, printing out the source device of the Tweet and then the tweet itself. Hopefully most of the code looks familiar from last chapter when we covered loops over social media data.\n",
    "\n",
    "Try searching for recent tweets from different types of accounts, like: \n",
    "- News organizations and other corporations, like: cnn\n",
    "- Politicians, like: BarackObama, JoeBiden, \n",
    "- Other celebrities, like MarkRuffalo, selenagomez\n",
    "\n",
    "To do this:\n",
    "- put in your special Twitter bot passwords\n",
    "- skip the fake_tweepy step above\n",
    "- take the first line of the code below and replace `'from:fake_celebrity'` with something like `'from:cnn'`"
   ]
  },
  {
   "cell_type": "code",
   "execution_count": null,
   "id": "977aaa34-59da-4e73-aacb-fe031b6dc50f",
   "metadata": {},
   "outputs": [],
   "source": [
    "# choose account to search from (save in query variable)\n",
    "query = 'from:fake_celebrity'\n",
    "\n",
    "# search tweets with the query, also include the \"source\" info, and allow up to 20 results\n",
    "# note: \"search_recent_tweets\" searches tweets from the last 7 days\n",
    "tweets = client.search_recent_tweets(query=query, tweet_fields=[\"source\"], max_results=20)\n",
    "\n",
    "# loop through each of the tweets (saved in tweets.data)\n",
    "for tweet in tweets.data:\n",
    "    print(\"Tweet Source: \" + tweet.source) # print the source publishing the tweet\n",
    "    print(\"   Tweet: \" + tweet.text) # print the text of the tweet\n",
    "    print() # print a blank line"
   ]
  },
  {
   "cell_type": "markdown",
   "id": "215427d3-f159-46e4-afea-5f8452cde7cc",
   "metadata": {},
   "source": [
    "## Reflecting on what you find\n",
    "In our fake_celebrity example, you will see that some of the tweets are posted from a Social Media Manager, a program that helps people schedule posts and otherwise manage their social media accounts. \n",
    "\n",
    "Reflect on what you feel that social media manager means for authenticity for different types of accounts."
   ]
  }
 ],
 "metadata": {
  "kernelspec": {
   "display_name": "Python 3 (ipykernel)",
   "language": "python",
   "name": "python3"
  },
  "language_info": {
   "codemirror_mode": {
    "name": "ipython",
    "version": 3
   },
   "file_extension": ".py",
   "mimetype": "text/x-python",
   "name": "python",
   "nbconvert_exporter": "python",
   "pygments_lexer": "ipython3",
   "version": "3.9.7"
  }
 },
 "nbformat": 4,
 "nbformat_minor": 5
}
