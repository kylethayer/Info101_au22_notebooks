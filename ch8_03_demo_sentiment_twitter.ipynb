{
 "cells": [
  {
   "cell_type": "markdown",
   "id": "485c4462-5cf7-4524-8f57-874e8eb6209d",
   "metadata": {},
   "source": [
    "# Demo: Sentiment Analysis on Twitter\n",
    "\n",
    "Now let's try using sentiment analysis (and loop variables) on Twitter:\n",
    "\n",
    "We'll start by doing our normal steps to load tweepy (or fake tweepy)\n",
    "\n",
    "## Tweepy Setup"
   ]
  },
  {
   "cell_type": "code",
   "execution_count": null,
   "id": "0d45a981-86cd-41f0-bc0a-066afdc985b4",
   "metadata": {
    "tags": []
   },
   "outputs": [],
   "source": [
    "import tweepy"
   ]
  },
  {
   "cell_type": "markdown",
   "id": "8cdfc113-a6b0-4c6f-a1f1-06a47bb83925",
   "metadata": {},
   "source": [
    "(optional) make a fake twitter connection with the fake_tweepy library\n",
    "\n",
    "For testing purposes, we’ve added this line of code, which loads a fake version of tweepy, so it wont actually connect to twitter. If you want to try to actually connect to twitter, don’t run this line of code."
   ]
  },
  {
   "cell_type": "code",
   "execution_count": null,
   "id": "f5c5eac2-09d3-4244-b4d4-63942fda66ef",
   "metadata": {},
   "outputs": [],
   "source": [
    "%run fake_tweepy/fake_tweepy.ipynb"
   ]
  },
  {
   "cell_type": "code",
   "execution_count": null,
   "id": "72567e4d-e517-43f1-a949-49fb29120ddf",
   "metadata": {},
   "outputs": [],
   "source": [
    "import bot_keys"
   ]
  },
  {
   "cell_type": "code",
   "execution_count": null,
   "id": "94c2d5da-d971-454a-aebf-3ed64e286b01",
   "metadata": {},
   "outputs": [],
   "source": [
    "# Give the tweepy code your developer access passwords so\n",
    "# it can perform twitter actions\n",
    "client = tweepy.Client(\n",
    "   bearer_token=bot_keys.bearer_token,\n",
    "   consumer_key=bot_keys.consumer_key, consumer_secret=bot_keys.consumer_secret,\n",
    "   access_token=bot_keys.access_token, access_token_secret=bot_keys.access_token_secret\n",
    ")"
   ]
  },
  {
   "cell_type": "markdown",
   "id": "a72f67fc-09df-446f-8956-b1f28fd3d0bd",
   "metadata": {},
   "source": [
    "## Sentiment Analysis\n",
    "### load sentiment analysis library and make analyzer"
   ]
  },
  {
   "cell_type": "code",
   "execution_count": null,
   "id": "a476b639-df99-4737-83f8-a37fb3654b50",
   "metadata": {
    "tags": []
   },
   "outputs": [],
   "source": [
    "import nltk\n",
    "nltk.download([\"vader_lexicon\"])\n",
    "from nltk.sentiment import SentimentIntensityAnalyzer\n",
    "sia = SentimentIntensityAnalyzer()"
   ]
  },
  {
   "cell_type": "markdown",
   "id": "549b8cd4-61a6-42b3-ad32-7dff878ddc9c",
   "metadata": {},
   "source": [
    "### loop through tweets, finding average sentiment\n",
    "We can now combine our previous examples of looping through tweets with what we just learned of sentiment analysis and looping variables to find the average sentiment of a set of tweets.\n"
   ]
  },
  {
   "cell_type": "code",
   "execution_count": null,
   "id": "ec912f23-54af-44ce-86b7-3f445bad5fdf",
   "metadata": {},
   "outputs": [],
   "source": [
    "# Note: If you want to exclude retweets, add  -is:retweet, so for example:\n",
    "#   query = 'pizza -is:retweet'\n",
    "query = '\"cute cat\"'\n",
    "tweets = client.search_recent_tweets(query=query, max_results=10)\n",
    "\n",
    "num_tweets = 0\n",
    "total_sentiment = 0\n",
    "\n",
    "# go through each tweet\n",
    "for tweet in tweets.data:\n",
    "    \n",
    "    #calculate sentiment\n",
    "    tweet_sentiment = sia.polarity_scores(tweet.text)[\"compound\"]\n",
    "    num_tweets += 1\n",
    "    total_sentiment += tweet_sentiment\n",
    "\n",
    "    print(\"Sentiment: \" + str(tweet_sentiment))\n",
    "    print(\"   Tweet: \" + tweet.text)\n",
    "    print()\n",
    "\n",
    "\n",
    "average_sentiment = total_sentiment / num_tweets\n",
    "print(\"Average sentiment was \" + str(average_sentiment))"
   ]
  },
  {
   "cell_type": "markdown",
   "id": "c97763a9-325f-4fd0-8b57-501a068f6335",
   "metadata": {},
   "source": [
    "We can now see the average sentiment of a set of tweets based on our search of twitter! \n",
    "\n",
    "If you use your twitter bot keys, you can change the `query` to be whatever twitter search you want and see whether people are tweeting positively or negatively about it. \n",
    "\n",
    "_note: You can change `max_results=10` to go up to 100 to get more tweets at a time to find the average of_"
   ]
  }
 ],
 "metadata": {
  "kernelspec": {
   "display_name": "Python 3 (ipykernel)",
   "language": "python",
   "name": "python3"
  },
  "language_info": {
   "codemirror_mode": {
    "name": "ipython",
    "version": 3
   },
   "file_extension": ".py",
   "mimetype": "text/x-python",
   "name": "python",
   "nbconvert_exporter": "python",
   "pygments_lexer": "ipython3",
   "version": "3.9.7"
  }
 },
 "nbformat": 4,
 "nbformat_minor": 5
}
