{
 "cells": [
  {
   "cell_type": "markdown",
   "id": "8e8b04f7-3262-427e-b125-ec9e4284d0d9",
   "metadata": {
    "tags": []
   },
   "source": [
    "# Programming Assignment 1: Post 15 Tweet\n",
    "In this assignment, you will modify this program to post at least 15 tweets (no more than 30). Then you will answer some reflection questions on your bot.\n",
    "\n",
    "We suggest that while you are working on it and testing it out, you use fake_tweepy so it doesn't post on your real twitter account. When you are done, then try running it on your real twitter account. If you can't get it to run on your real twitter account, that's ok, you will still get credit, just let us know what the error message was.\n",
    "\n",
    "When you are done, you will need to download this file (file menu -> download) and turn it in on Canvas."
   ]
  },
  {
   "cell_type": "markdown",
   "id": "45c29cfa-0dba-445c-a877-b9bef40609ad",
   "metadata": {},
   "source": [
    "## Code to post your tweets"
   ]
  },
  {
   "cell_type": "markdown",
   "id": "71630ecc-59b1-421a-94b8-7c973e0a3c12",
   "metadata": {},
   "source": [
    "### step 1: load tweepy code"
   ]
  },
  {
   "cell_type": "code",
   "execution_count": 1,
   "id": "d93d5346-7256-48dd-9687-5919aabf6f74",
   "metadata": {},
   "outputs": [],
   "source": [
    "# Load some code called \"tweepy\" that will help us work with twitter\n",
    "import tweepy"
   ]
  },
  {
   "cell_type": "markdown",
   "id": "bc6fe80b-f477-481e-8b82-3981b8cf75a4",
   "metadata": {},
   "source": [
    "### (optional) step 1b: make a fake twitter connection with the fake_tweepy library\n",
    "For testing purposes, we've added this line of code, which loads a fake version of tweepy, so it wont actually connect to twitter. __If you want to try to actually connect to twitter, don't run this line of code.__"
   ]
  },
  {
   "cell_type": "code",
   "execution_count": null,
   "id": "ec45f3fb-204c-4948-a822-1608972f54bb",
   "metadata": {},
   "outputs": [],
   "source": [
    "%run fake_tweepy/fake_tweepy.ipynb"
   ]
  },
  {
   "cell_type": "markdown",
   "id": "17ab3bf1-b204-41dd-806c-4b923beb4079",
   "metadata": {},
   "source": [
    "### step 2: load your developer access passwords\n",
    "To use this on your real twitter account, copy your [developer access passwords](https://kylethayer.github.io/social_media_ethics_automation_v0/prefaces/making_twitter_account.html) into the  bot_keys.py file."
   ]
  },
  {
   "cell_type": "code",
   "execution_count": 5,
   "id": "6c17ccfc-269d-4d21-80f8-d7dbe0576423",
   "metadata": {},
   "outputs": [],
   "source": [
    "import bot_keys"
   ]
  },
  {
   "cell_type": "markdown",
   "id": "42779d83-d829-41e5-9b05-cf9c68cd3ca4",
   "metadata": {},
   "source": [
    "### step 3: give tweepy (or fake_tweepy) your developer access passwords"
   ]
  },
  {
   "cell_type": "code",
   "execution_count": 3,
   "id": "f2bcdc6b-b6e7-4348-9b9a-231aed259ed1",
   "metadata": {},
   "outputs": [],
   "source": [
    "# Give the tweepy code your developer access passwords so\n",
    "# it can perform twitter actions\n",
    "client = tweepy.Client(\n",
    "   bearer_token=bot_keys.bearer_token,\n",
    "   consumer_key=bot_keys.consumer_key, consumer_secret=bot_keys.consumer_secret,\n",
    "   access_token=bot_keys.access_token, access_token_secret=bot_keys.access_token_secret\n",
    ")"
   ]
  },
  {
   "cell_type": "markdown",
   "id": "006459cb-1a07-4a60-91b0-031174339753",
   "metadata": {},
   "source": [
    "### step 4: post 15 tweets\n",
    "This is where you will have to modify the code to:\n",
    "- Post 15 tweets\n",
    "- Using the sleep() function at least two times\n",
    "- Save at least one piece of text in a variable and use it for making a tweet\n",
    "\n",
    "You bot must __NOT__:\n",
    "- Interact with other users (e.g., tag them with their username, reply to their tweets, etc.)\n",
    "- Use a hash-tag for a trend\n",
    "- Post more than 30 tweets"
   ]
  },
  {
   "cell_type": "code",
   "execution_count": 4,
   "id": "b44dafab-9d25-4620-b6bd-bd4149400eca",
   "metadata": {},
   "outputs": [
    {
     "data": {
      "text/plain": [
       "Response(data={'id': '1575981919283556352', 'text': 'Hi section AC!'}, includes={}, errors=[], meta={})"
      ]
     },
     "execution_count": 4,
     "metadata": {},
     "output_type": "execute_result"
    }
   ],
   "source": [
    "# Post a tweet\n",
    "client.create_tweet(text=\"This is an example tweet\")\n",
    "\n",
    "# TODO: modify this code to post 15 tweets, using the sleep() function \n",
    "# at least two times and using a variable at least once"
   ]
  },
  {
   "cell_type": "markdown",
   "id": "bd5a7f58-17ce-48e1-ab46-99bcb6fa36de",
   "metadata": {},
   "source": [
    "## Reflection Questions"
   ]
  },
  {
   "cell_type": "markdown",
   "id": "497f776e-1fc8-4c47-b58d-003c8bece207",
   "metadata": {},
   "source": [
    "You must also write answers to the following questions\n",
    "Note: You can double click on these blocks of text to edit them"
   ]
  },
  {
   "cell_type": "markdown",
   "id": "235f443e-dd96-4c0e-a11c-b4643a56dfdd",
   "metadata": {},
   "source": [
    "What is the name of your twitter account so we can see the tweets? Or what error message did you get when trying to post tweets? (you still get full credit even if you couldn't get it to post for real)"
   ]
  },
  {
   "cell_type": "markdown",
   "id": "155e800e-888c-44a0-bfe8-4fbf24f0e503",
   "metadata": {},
   "source": [
    "TODO: Write at least 3 sentences here"
   ]
  },
  {
   "cell_type": "markdown",
   "id": "51fd7e65-fd1b-4183-b2cc-974bb76378d1",
   "metadata": {},
   "source": [
    "If your twitter account wasn't labeled as a bot, how do you think people would perceive those tweets? (write at least 3 sentences)"
   ]
  },
  {
   "cell_type": "markdown",
   "id": "3059adcd-d680-435b-a4e8-652b4915bad7",
   "metadata": {},
   "source": [
    "TODO: Write at least 3 sentences here"
   ]
  },
  {
   "cell_type": "markdown",
   "id": "fb9ddc69-cd97-4c9b-b574-a44eca466090",
   "metadata": {},
   "source": [
    "If people saw those tweets and then later discovered that they were posted by a computer program, how do you think their view of the tweets would change? (write at least 3 sentences)"
   ]
  },
  {
   "cell_type": "markdown",
   "id": "2e73cc74-3648-4b8f-87c2-a7ad8eb1f446",
   "metadata": {},
   "source": [
    "Pick two ethics frameworks and compare how they might evaluate your bot (or a similar one with more benevolent or malevalent purposes)? (write at least 6 sentences)"
   ]
  },
  {
   "cell_type": "markdown",
   "id": "ede1b513-4537-4ea9-b358-064adbfd1920",
   "metadata": {},
   "source": [
    "TODO: Write at least 6 sentences here"
   ]
  }
 ],
 "metadata": {
  "kernelspec": {
   "display_name": "Python 3 (ipykernel)",
   "language": "python",
   "name": "python3"
  },
  "language_info": {
   "codemirror_mode": {
    "name": "ipython",
    "version": 3
   },
   "file_extension": ".py",
   "mimetype": "text/x-python",
   "name": "python",
   "nbconvert_exporter": "python",
   "pygments_lexer": "ipython3",
   "version": "3.9.7"
  }
 },
 "nbformat": 4,
 "nbformat_minor": 5
}
